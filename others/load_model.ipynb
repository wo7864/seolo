{
  "nbformat": 4,
  "nbformat_minor": 0,
  "metadata": {
    "colab": {
      "name": "load-model.ipynb",
      "version": "0.3.2",
      "provenance": [],
      "collapsed_sections": [],
      "include_colab_link": true
    },
    "kernelspec": {
      "name": "python3",
      "display_name": "Python 3"
    }
  },
  "cells": [
    {
      "cell_type": "markdown",
      "metadata": {
        "id": "view-in-github",
        "colab_type": "text"
      },
      "source": [
        "<a href=\"https://colab.research.google.com/github/wo7864/Calligrapick/blob/master/load_model.ipynb\" target=\"_parent\"><img src=\"https://colab.research.google.com/assets/colab-badge.svg\" alt=\"Open In Colab\"/></a>"
      ]
    },
    {
      "cell_type": "code",
      "metadata": {
        "id": "Nu9OQDV0JoWj",
        "colab_type": "code",
        "outputId": "d2304e1a-be9c-4a63-c5d8-ce639121af73",
        "colab": {
          "base_uri": "https://localhost:8080/",
          "height": 738
        }
      },
      "source": [
        "import tensorflow as tf\n",
        "import numpy as np\n",
        "import matplotlib.pyplot as plt\n",
        "import matplotlib.gridspec as gridspec\n",
        "import os\n",
        "from torch.autograd import Variable\n",
        "import cv2\n",
        "\n",
        "z_dim = 100\n",
        "X_dim = 784\n",
        "y_dim = 1\n",
        "h_dim = 128\n",
        "c = 0\n",
        "lr = 1e-3\n",
        "\n",
        "def plot(samples):\n",
        "    fig = plt.figure(figsize=(1, 1))\n",
        "    gs = gridspec.GridSpec(1, 1)\n",
        "    gs.update(wspace=0.05, hspace=0.05)\n",
        "\n",
        "    for i, sample in enumerate(samples):\n",
        "        if i == 0:\n",
        "            ax = plt.subplot(gs[i])\n",
        "            plt.axis('off')\n",
        "            ax.set_xticklabels([])\n",
        "            ax.set_yticklabels([])\n",
        "            ax.set_aspect('equal')\n",
        "            plt.imshow(sample.reshape(28, 28), cmap='Greys_r')\n",
        "\n",
        "    return fig\n",
        "\n",
        "\n",
        "def xavier_init(size):\n",
        "    in_dim = size[0]\n",
        "    xavier_stddev = 1. / tf.sqrt(in_dim / 2.)\n",
        "    return tf.random_normal(shape=size, stddev=xavier_stddev)\n",
        "\n",
        "\n",
        "# =============================== P(X|z) ======================================\n",
        "\n",
        "P_W1 = tf.Variable(xavier_init([z_dim + y_dim, h_dim]))\n",
        "P_b1 = tf.Variable(tf.zeros(shape=[h_dim]))\n",
        "\n",
        "P_W2 = tf.Variable(xavier_init([h_dim, X_dim]))\n",
        "P_b2 = tf.Variable(tf.zeros(shape=[X_dim]))\n",
        "\n",
        "\n",
        "def P(z, c):\n",
        "    inputs = tf.concat(axis=1, values=[z, c])\n",
        "    h = tf.nn.relu(tf.matmul(inputs, P_W1) + P_b1)\n",
        "    logits = tf.matmul(h, P_W2) + P_b2\n",
        "    prob = tf.nn.sigmoid(logits)\n",
        "    return prob, logits\n",
        "\n",
        "\n",
        "# =============================== TRAINING ====================================\n",
        "#z_mu, z_logvar = Q(X, c)\n",
        "#z_sample = sample_z(z_mu, z_logvar)\n",
        "#_, logits = P(z_sample, c)\n",
        "\n",
        "\n",
        "# E[log P(X|z)]\n",
        "#recon_loss = tf.reduce_sum(tf.nn.sigmoid_cross_entropy_with_logits(logits=logits, labels=X), 1)\n",
        "# D_KL(Q(z|X) || P(z|X)); calculate in closed form as both dist. are Gaussian\n",
        "#kl_loss = 0.5 * tf.reduce_sum(tf.exp(z_logvar) + z_mu**2 - 1. - z_logvar, 1)\n",
        "# VAE loss\n",
        "#vae_loss = tf.reduce_mean(recon_loss + kl_loss)\n",
        "#solver = tf.train.AdamOptimizer().minimize(vae_loss)\n",
        "\n",
        "\n",
        "\n",
        "# Sampling from random z\n",
        "\n",
        "X_samples, _ = P(z, c)\n",
        "\n",
        "sess = tf.Session()\n",
        "sess.run(tf.global_variables_initializer())\n",
        "\n",
        "saver =tf.train.Saver()\n",
        "model_dir = 'gdrive/My Drive/model/ga.ckpt'\n",
        "saver.restore(sess, model_dir)\n",
        "\n",
        "y = np.zeros(shape=[1, y_dim])\n",
        "y[:, np.random.randint(0, y_dim)] = 1.\n",
        "\n",
        "z2 = '''0.79429238 0.4458658  0.85755222 0.72411167 0.60908454 0.21925395\n",
        " 0.29081489 0.40935545 0.21938322 0.21406876 0.24366264 0.28571552\n",
        " 0.38313599 0.63418172 0.88382467 0.39025575 0.54932936 0.63643637\n",
        " 0.88218799 0.6796776  0.44285855 0.73247252 0.31841765 0.78487264\n",
        " 0.55667516 0.58043064 0.90933945 0.20525132 0.54137437 0.58781489\n",
        " 0.52204867 0.5442398  0.11939555 0.22597721 0.44852397 0.2207616\n",
        " 0.86395074 0.75614974 0.37775391 0.2779469  0.47217661 0.72845538\n",
        " 0.63269492 0.91515773 0.78684437 0.82391419 0.86145916 0.96186129\n",
        " 0.06105211 0.71551837 0.06233188 0.23337387 0.43562393 0.53219842\n",
        " 0.12421554 0.48974286 0.34979114 0.9164414  0.31436138 0.88690715\n",
        " 0.77598529 0.38450996 0.62985588 0.24486764 0.97967897 0.97250807\n",
        " 0.17464373 0.6200334  0.55200361 0.85205367 0.42365953 0.19859462\n",
        " 0.42814393 0.85811298 0.91152527 0.91964546 0.80064463 0.29097411\n",
        " 0.99875789 0.73967562 0.8257404  0.51071099 0.89387406 0.32876156\n",
        " 0.2812403  0.59540485 0.54319335 0.72139561 0.86942942 0.22919761\n",
        " 0.05111329 0.55750937 0.44789447 0.98834775 0.65900041 0.68059309\n",
        " 0.16490245 0.24138536 0.23770803 0.1322071'''\n",
        "\n",
        "z2 = z2.replace(\"\\n\",\"\")\n",
        "z2 = z2.replace(\"  \",\" \")\n",
        "z2 = z2.replace(\"  \",\" \")\n",
        "z2 = z2.replace(\"  \",\" \")\n",
        "z2 = z2.replace(\"  \",\" \")\n",
        "z2 = z2.replace(\"  \",\" \")\n",
        "z2 = z2.replace(\"  \",\" \")\n",
        "\n",
        "\n",
        "z2 = z2.split(\" \")\n",
        "z2 = [float(f) for f in z2 ]\n",
        "\n",
        "z2 = np.array(z2)\n",
        "z2 = z2.reshape(1, 100)\n",
        "samples = sess.run(X_samples, feed_dict={z: z2, c: y})\n",
        "\n",
        "fig = plot(samples)\n",
        "plt.show()\n",
        "plt.close(fig)\n",
        "        \n",
        " "
      ],
      "execution_count": 0,
      "outputs": [
        {
          "output_type": "stream",
          "text": [
            "WARNING: Logging before flag parsing goes to stderr.\n",
            "W0727 09:03:09.389138 140516587571072 deprecation.py:323] From <ipython-input-2-3633ed06af84>:10: read_data_sets (from tensorflow.contrib.learn.python.learn.datasets.mnist) is deprecated and will be removed in a future version.\n",
            "Instructions for updating:\n",
            "Please use alternatives such as official/mnist/dataset.py from tensorflow/models.\n",
            "W0727 09:03:09.391026 140516587571072 deprecation.py:323] From /usr/local/lib/python3.6/dist-packages/tensorflow/contrib/learn/python/learn/datasets/mnist.py:260: maybe_download (from tensorflow.contrib.learn.python.learn.datasets.base) is deprecated and will be removed in a future version.\n",
            "Instructions for updating:\n",
            "Please write your own downloading logic.\n",
            "W0727 09:03:09.399546 140516587571072 deprecation.py:323] From /usr/local/lib/python3.6/dist-packages/tensorflow/contrib/learn/python/learn/datasets/base.py:252: _internal_retry.<locals>.wrap.<locals>.wrapped_fn (from tensorflow.contrib.learn.python.learn.datasets.base) is deprecated and will be removed in a future version.\n",
            "Instructions for updating:\n",
            "Please use urllib or similar directly.\n",
            "W0727 09:03:09.520581 140516587571072 deprecation.py:323] From /usr/local/lib/python3.6/dist-packages/tensorflow/contrib/learn/python/learn/datasets/mnist.py:262: extract_images (from tensorflow.contrib.learn.python.learn.datasets.mnist) is deprecated and will be removed in a future version.\n",
            "Instructions for updating:\n",
            "Please use tf.data to implement this functionality.\n"
          ],
          "name": "stderr"
        },
        {
          "output_type": "stream",
          "text": [
            "Successfully downloaded train-images-idx3-ubyte.gz 9912422 bytes.\n",
            "Extracting ../../MNIST_data/train-images-idx3-ubyte.gz\n"
          ],
          "name": "stdout"
        },
        {
          "output_type": "stream",
          "text": [
            "W0727 09:03:09.816233 140516587571072 deprecation.py:323] From /usr/local/lib/python3.6/dist-packages/tensorflow/contrib/learn/python/learn/datasets/mnist.py:267: extract_labels (from tensorflow.contrib.learn.python.learn.datasets.mnist) is deprecated and will be removed in a future version.\n",
            "Instructions for updating:\n",
            "Please use tf.data to implement this functionality.\n",
            "W0727 09:03:09.819017 140516587571072 deprecation.py:323] From /usr/local/lib/python3.6/dist-packages/tensorflow/contrib/learn/python/learn/datasets/mnist.py:110: dense_to_one_hot (from tensorflow.contrib.learn.python.learn.datasets.mnist) is deprecated and will be removed in a future version.\n",
            "Instructions for updating:\n",
            "Please use tf.one_hot on tensors.\n",
            "W0727 09:03:09.910876 140516587571072 deprecation.py:323] From /usr/local/lib/python3.6/dist-packages/tensorflow/contrib/learn/python/learn/datasets/mnist.py:290: DataSet.__init__ (from tensorflow.contrib.learn.python.learn.datasets.mnist) is deprecated and will be removed in a future version.\n",
            "Instructions for updating:\n",
            "Please use alternatives such as official/mnist/dataset.py from tensorflow/models.\n"
          ],
          "name": "stderr"
        },
        {
          "output_type": "stream",
          "text": [
            "Successfully downloaded train-labels-idx1-ubyte.gz 28881 bytes.\n",
            "Extracting ../../MNIST_data/train-labels-idx1-ubyte.gz\n",
            "Successfully downloaded t10k-images-idx3-ubyte.gz 1648877 bytes.\n",
            "Extracting ../../MNIST_data/t10k-images-idx3-ubyte.gz\n",
            "Successfully downloaded t10k-labels-idx1-ubyte.gz 4542 bytes.\n",
            "Extracting ../../MNIST_data/t10k-labels-idx1-ubyte.gz\n"
          ],
          "name": "stdout"
        },
        {
          "output_type": "stream",
          "text": [
            "W0727 09:03:10.317562 140516587571072 deprecation.py:323] From /usr/local/lib/python3.6/dist-packages/tensorflow/python/ops/nn_impl.py:180: add_dispatch_support.<locals>.wrapper (from tensorflow.python.ops.array_ops) is deprecated and will be removed in a future version.\n",
            "Instructions for updating:\n",
            "Use tf.where in 2.0, which has the same broadcast rule as np.where\n",
            "W0727 09:03:10.985654 140516587571072 deprecation.py:323] From /usr/local/lib/python3.6/dist-packages/tensorflow/python/training/saver.py:1276: checkpoint_exists (from tensorflow.python.training.checkpoint_management) is deprecated and will be removed in a future version.\n",
            "Instructions for updating:\n",
            "Use standard file APIs to check for files with this prefix.\n"
          ],
          "name": "stderr"
        },
        {
          "output_type": "display_data",
          "data": {
            "image/png": "[encoded data removed]",
            "text/plain": [
              "<Figure size 72x72 with 1 Axes>"
            ]
          },
          "metadata": {
            "tags": []
          }
        }
      ]
    },
    {
      "cell_type": "code",
      "metadata": {
        "id": "CBM31CDkMUJe",
        "colab_type": "code",
        "outputId": "70a64e55-8b80-4d91-b03e-d1ac55970d38",
        "colab": {
          "base_uri": "https://localhost:8080/",
          "height": 34
        }
      },
      "source": [
        "%cd ../../\n"
      ],
      "execution_count": 0,
      "outputs": [
        {
          "output_type": "stream",
          "text": [
            "/content\n"
          ],
          "name": "stdout"
        }
      ]
    },
    {
      "cell_type": "code",
      "metadata": {
        "id": "SmwJ7HGSXKWX",
        "colab_type": "code",
        "outputId": "30758bb1-2fa5-468f-a49b-34ff85f9d128",
        "colab": {
          "base_uri": "https://localhost:8080/",
          "height": 125
        }
      },
      "source": [
        "from google.colab import drive\n",
        "\n",
        "drive.mount('/content/gdrive')\n"
      ],
      "execution_count": 0,
      "outputs": [
        {
          "output_type": "stream",
          "text": [
            "Go to this URL in a browser: https://accounts.google.com/o/oauth2/auth?client_id=947318989803-6bn6qk8qdgf4n4g3pfee6491hc0brc4i.apps.googleusercontent.com&redirect_uri=urn%3Aietf%3Awg%3Aoauth%3A2.0%3Aoob&scope=email%20https%3A%2F%2Fwww.googleapis.com%2Fauth%2Fdocs.test%20https%3A%2F%2Fwww.googleapis.com%2Fauth%2Fdrive%20https%3A%2F%2Fwww.googleapis.com%2Fauth%2Fdrive.photos.readonly%20https%3A%2F%2Fwww.googleapis.com%2Fauth%2Fpeopleapi.readonly&response_type=code\n",
            "\n",
            "Enter your authorization code:\n",
            "··········\n",
            "Mounted at /content/gdrive\n"
          ],
          "name": "stdout"
        }
      ]
    }
  ]
}